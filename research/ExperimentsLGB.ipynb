{
 "cells": [
  {
   "cell_type": "code",
   "execution_count": 1,
   "id": "8541dde0",
   "metadata": {},
   "outputs": [],
   "source": [
    "import settings  # for add base path and correct import other libs"
   ]
  },
  {
   "cell_type": "code",
   "execution_count": 2,
   "id": "3cc72774",
   "metadata": {},
   "outputs": [],
   "source": [
    "from ml_lib import LGBM, MLConfig"
   ]
  },
  {
   "cell_type": "code",
   "execution_count": 3,
   "id": "a1823d0c",
   "metadata": {},
   "outputs": [],
   "source": [
    "from ml_lib.pre_processing import (add_synthetic_feature1,\n",
    "    add_synthetic_feature2,\n",
    "    add_synthetic_feature3,)"
   ]
  },
  {
   "cell_type": "code",
   "execution_count": 4,
   "id": "ece11c33",
   "metadata": {},
   "outputs": [],
   "source": [
    "class CurrentConfig(MLConfig):\n",
    "    LGBM_FEATURES_TO_APPLY = [\n",
    "        add_synthetic_feature1,\n",
    "    add_synthetic_feature2,\n",
    "    add_synthetic_feature3\n",
    "    ]"
   ]
  },
  {
   "cell_type": "code",
   "execution_count": 5,
   "id": "6603e5cb",
   "metadata": {},
   "outputs": [],
   "source": [
    "lgbm = LGBM(config=CurrentConfig)"
   ]
  },
  {
   "cell_type": "code",
   "execution_count": 6,
   "id": "30e5908f",
   "metadata": {},
   "outputs": [],
   "source": [
    "# do something"
   ]
  }
 ],
 "metadata": {
  "kernelspec": {
   "display_name": "Python 3 (ipykernel)",
   "language": "python",
   "name": "python3"
  },
  "language_info": {
   "codemirror_mode": {
    "name": "ipython",
    "version": 3
   },
   "file_extension": ".py",
   "mimetype": "text/x-python",
   "name": "python",
   "nbconvert_exporter": "python",
   "pygments_lexer": "ipython3",
   "version": "3.9.5"
  }
 },
 "nbformat": 4,
 "nbformat_minor": 5
}