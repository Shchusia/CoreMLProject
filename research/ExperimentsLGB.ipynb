{
 "cells": [
  {
   "cell_type": "code",
   "execution_count": 1,
   "id": "8541dde0",
   "metadata": {},
   "outputs": [],
   "source": [
    "import settings  # for add base path and correct import other libs"
   ]
  },
  {
   "cell_type": "code",
   "execution_count": 2,
   "id": "3cc72774",
   "metadata": {},
   "outputs": [],
   "source": [
    "from ml_lib import LGBM, MLConfig"
   ]
  },
  {
   "cell_type": "code",
   "execution_count": 3,
   "id": "53238fba",
   "metadata": {},
   "outputs": [],
   "source": [
    "from ml_lib.pre_processing import (add_synthetic_feature1,\n",
    "    add_synthetic_feature2,\n",
    "    add_synthetic_feature3,)"
   ]
  },
  {
   "cell_type": "code",
   "execution_count": 4,
   "id": "a1823d0c",
   "metadata": {},
   "outputs": [],
   "source": [
    "import pandas as pd\n",
    "from typing import Tuple"
   ]
  },
  {
   "cell_type": "code",
   "execution_count": 5,
   "id": "3c9d9cb7",
   "metadata": {},
   "outputs": [],
   "source": [
    "df_fit = pd.read_csv(settings.FIT_DF, index_col=0)"
   ]
  },
  {
   "cell_type": "code",
   "execution_count": 7,
   "id": "ece11c33",
   "metadata": {},
   "outputs": [],
   "source": [
    "class CurrentConfig(MLConfig):\n",
    "    LGBM_FEATURES_TO_APPLY = [\n",
    "        add_synthetic_feature1,\n",
    "    add_synthetic_feature2,\n",
    "    add_synthetic_feature3\n",
    "    ]"
   ]
  },
  {
   "cell_type": "code",
   "execution_count": 8,
   "id": "6603e5cb",
   "metadata": {},
   "outputs": [],
   "source": [
    "lgbm = LGBM(config=CurrentConfig)"
   ]
  },
  {
   "cell_type": "code",
   "execution_count": 9,
   "id": "d170b022",
   "metadata": {},
   "outputs": [],
   "source": [
    "def split_to_base_and_result(df_to_split: pd.DataFrame) -> Tuple[pd.DataFrame, pd.Series]:\n",
    "    \"\"\"\n",
    "    synthetic partition function into base df and the result of the predictive for training\n",
    "    \"\"\"\n",
    "    columns = list(df_to_split.columns)\n",
    "    return df_to_split[columns[-1]], df_to_split[columns[-1]]"
   ]
  },
  {
   "cell_type": "code",
   "execution_count": 10,
   "id": "ca9c4540",
   "metadata": {},
   "outputs": [],
   "source": [
    "df_x, df_y = split_to_base_and_result(df_fit)"
   ]
  },
  {
   "cell_type": "code",
   "execution_count": null,
   "id": "a39a95a2",
   "metadata": {},
   "outputs": [],
   "source": [
    "lgbm.fit(df_x, df_y)"
   ]
  },
  {
   "cell_type": "code",
   "execution_count": null,
   "id": "45ad2211",
   "metadata": {},
   "outputs": [],
   "source": [
    "# model scoring check"
   ]
  },
  {
   "cell_type": "code",
   "execution_count": null,
   "id": "c6a56283",
   "metadata": {},
   "outputs": [],
   "source": [
    "lgbm.save(settings.SOURCE_FOLDER/('first_model.pkl'))"
   ]
  }
 ],
 "metadata": {
  "kernelspec": {
   "display_name": "Python 3 (ipykernel)",
   "language": "python",
   "name": "python3"
  },
  "language_info": {
   "codemirror_mode": {
    "name": "ipython",
    "version": 3
   },
   "file_extension": ".py",
   "mimetype": "text/x-python",
   "name": "python",
   "nbconvert_exporter": "python",
   "pygments_lexer": "ipython3",
   "version": "3.9.5"
  }
 },
 "nbformat": 4,
 "nbformat_minor": 5
}
