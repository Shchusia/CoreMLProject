{
 "cells": [
  {
   "cell_type": "code",
   "execution_count": 1,
   "id": "195ceaf2",
   "metadata": {},
   "outputs": [],
   "source": [
    "from settings import *"
   ]
  },
  {
   "cell_type": "code",
   "execution_count": null,
   "id": "f0f7c750",
   "metadata": {},
   "outputs": [],
   "source": [
    "from data_handler import DataHandler"
   ]
  },
  {
   "cell_type": "code",
   "execution_count": 2,
   "id": "69dd78f7",
   "metadata": {},
   "outputs": [],
   "source": [
    "from ml_lib.pre_processing.pre_processing  import change_raw_data"
   ]
  },
  {
   "cell_type": "code",
   "execution_count": 3,
   "id": "09badd55",
   "metadata": {},
   "outputs": [],
   "source": [
    "import pandas as pd"
   ]
  },
  {
   "cell_type": "code",
   "execution_count": 4,
   "id": "5da5493b",
   "metadata": {},
   "outputs": [],
   "source": [
    "df = DataHandler().get_data_for_fit()"
   ]
  },
  {
   "cell_type": "code",
   "execution_count": null,
   "id": "e06067a1",
   "metadata": {},
   "outputs": [],
   "source": [
    "df_for_fit = change_raw_data(df)"
   ]
  },
  {
   "cell_type": "code",
   "execution_count": 5,
   "id": "707186f1",
   "metadata": {},
   "outputs": [],
   "source": [
    "df_for_fit.to_csv(FIT_DF)"
   ]
  },
  {
   "cell_type": "code",
   "execution_count": null,
   "id": "1ae33cd5",
   "metadata": {},
   "outputs": [],
   "source": []
  }
 ],
 "metadata": {
  "kernelspec": {
   "display_name": "Python 3 (ipykernel)",
   "language": "python",
   "name": "python3"
  },
  "language_info": {
   "codemirror_mode": {
    "name": "ipython",
    "version": 3
   },
   "file_extension": ".py",
   "mimetype": "text/x-python",
   "name": "python",
   "nbconvert_exporter": "python",
   "pygments_lexer": "ipython3",
   "version": "3.9.5"
  }
 },
 "nbformat": 4,
 "nbformat_minor": 5
}